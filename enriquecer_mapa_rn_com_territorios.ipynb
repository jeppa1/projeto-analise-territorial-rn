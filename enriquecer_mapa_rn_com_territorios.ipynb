{
  "nbformat": 4,
  "nbformat_minor": 0,
  "metadata": {
    "colab": {
      "provenance": [],
      "authorship_tag": "ABX9TyPMn2ZzkKexiS8y04smRaVo",
      "include_colab_link": true
    },
    "kernelspec": {
      "name": "python3",
      "display_name": "Python 3"
    },
    "language_info": {
      "name": "python"
    }
  },
  "cells": [
    {
      "cell_type": "markdown",
      "metadata": {
        "id": "view-in-github",
        "colab_type": "text"
      },
      "source": [
        "<a href=\"https://colab.research.google.com/github/jeppa1/projeto-analise-territorial-rn/blob/main/enriquecer_mapa_rn_com_territorios.ipynb\" target=\"_parent\"><img src=\"https://colab.research.google.com/assets/colab-badge.svg\" alt=\"Open In Colab\"/></a>"
      ]
    },
    {
      "cell_type": "code",
      "execution_count": 1,
      "metadata": {
        "colab": {
          "base_uri": "https://localhost:8080/"
        },
        "id": "ApSo0H_YK6qv",
        "outputId": "15d833ce-302d-4ff4-b921-5778a5f8bbdf"
      },
      "outputs": [
        {
          "output_type": "stream",
          "name": "stdout",
          "text": [
            "Requirement already satisfied: geopandas in /usr/local/lib/python3.12/dist-packages (1.1.1)\n",
            "Requirement already satisfied: numpy>=1.24 in /usr/local/lib/python3.12/dist-packages (from geopandas) (2.0.2)\n",
            "Requirement already satisfied: pyogrio>=0.7.2 in /usr/local/lib/python3.12/dist-packages (from geopandas) (0.11.1)\n",
            "Requirement already satisfied: packaging in /usr/local/lib/python3.12/dist-packages (from geopandas) (25.0)\n",
            "Requirement already satisfied: pandas>=2.0.0 in /usr/local/lib/python3.12/dist-packages (from geopandas) (2.2.2)\n",
            "Requirement already satisfied: pyproj>=3.5.0 in /usr/local/lib/python3.12/dist-packages (from geopandas) (3.7.2)\n",
            "Requirement already satisfied: shapely>=2.0.0 in /usr/local/lib/python3.12/dist-packages (from geopandas) (2.1.2)\n",
            "Requirement already satisfied: python-dateutil>=2.8.2 in /usr/local/lib/python3.12/dist-packages (from pandas>=2.0.0->geopandas) (2.9.0.post0)\n",
            "Requirement already satisfied: pytz>=2020.1 in /usr/local/lib/python3.12/dist-packages (from pandas>=2.0.0->geopandas) (2025.2)\n",
            "Requirement already satisfied: tzdata>=2022.7 in /usr/local/lib/python3.12/dist-packages (from pandas>=2.0.0->geopandas) (2025.2)\n",
            "Requirement already satisfied: certifi in /usr/local/lib/python3.12/dist-packages (from pyogrio>=0.7.2->geopandas) (2025.10.5)\n",
            "Requirement already satisfied: six>=1.5 in /usr/local/lib/python3.12/dist-packages (from python-dateutil>=2.8.2->pandas>=2.0.0->geopandas) (1.17.0)\n"
          ]
        }
      ],
      "source": [
        "# Instalação e importação das bibliotecas necessárias\n",
        "!pip install geopandas\n",
        "import pandas as pd\n",
        "import geopandas as gpd\n",
        "import os"
      ]
    },
    {
      "cell_type": "code",
      "source": [
        "# --- Configuração dos Caminhos ---\n",
        "# Esta estrutura assume que o notebook está na pasta raiz do projeto\n",
        "# e os dados estão na subpasta 'data/'\n",
        "\n",
        "# Arquivos de entrada\n",
        "caminho_geojson_original = \"data/input/geojs-24-mun.json\"\n",
        "caminho_master_csv = \"data/input/municipios_rn_territorio - territorios_master.csv\"\n",
        "\n",
        "# Pasta de saída\n",
        "pasta_saida = \"data/output/\"\n",
        "if not os.path.exists(pasta_saida):\n",
        "    os.makedirs(pasta_saida)\n",
        "\n",
        "# --- Carregamento dos Arquivos ---\n",
        "try:\n",
        "    print(\"Carregando arquivo GeoJSON original...\")\n",
        "    gdf_mapa = gpd.read_file(caminho_geojson_original)\n",
        "\n",
        "    print(\"Carregando arquivo mestre de territórios...\")\n",
        "    df_master = pd.read_csv(caminho_master_csv, dtype={'ibge_json': str})\n",
        "    print(\"--> Arquivos carregados com sucesso!\")\n",
        "except FileNotFoundError:\n",
        "    print(\"ERRO: Arquivo não encontrado. Verifique a estrutura de pastas e os nomes dos arquivos.\")\n",
        "    raise"
      ],
      "metadata": {
        "colab": {
          "base_uri": "https://localhost:8080/"
        },
        "id": "0zXQn2dQLJZZ",
        "outputId": "a8552f5e-3a1a-4e61-8ba0-80169c5410e6"
      },
      "execution_count": 4,
      "outputs": [
        {
          "output_type": "stream",
          "name": "stdout",
          "text": [
            "Carregando arquivo GeoJSON original...\n",
            "Carregando arquivo mestre de territórios...\n",
            "--> Arquivos carregados com sucesso!\n"
          ]
        }
      ]
    },
    {
      "cell_type": "code",
      "source": [
        "# Junção dos dados\n",
        "gdf_atualizado = gdf_mapa.merge(\n",
        "    df_master,\n",
        "    left_on='id',\n",
        "    right_on='ibge_json',\n",
        "    how='left'\n",
        ")\n",
        "\n",
        "# Limpeza e reorganização do GeoDataFrame final\n",
        "gdf_final = gdf_atualizado[['nome_atualizado', 'territorio', 'ibge_json', 'geometry']].copy()\n",
        "gdf_final.rename(columns={\n",
        "    'nome_atualizado': 'municipio',\n",
        "    'ibge_json': 'cod_ibge'\n",
        "}, inplace=True)\n",
        "\n",
        "print(\"\\nPrévia dos dados do novo mapa enriquecido:\")\n",
        "print(gdf_final.head())"
      ],
      "metadata": {
        "colab": {
          "base_uri": "https://localhost:8080/"
        },
        "id": "BOC28I0TLeyf",
        "outputId": "a73ade3d-7a82-4a33-e6af-ed30e0830d77"
      },
      "execution_count": 5,
      "outputs": [
        {
          "output_type": "stream",
          "name": "stdout",
          "text": [
            "\n",
            "Prévia dos dados do novo mapa enriquecido:\n",
            "        municipio                             territorio cod_ibge  \\\n",
            "0           Acari                                 Seridó  2400109   \n",
            "1            Assu                           Assu/Mossoró  2400208   \n",
            "2  Afonso Bezerra  Sertão Central Cabugi e Litoral Norte  2400307   \n",
            "3       Água Nova                             Alto Oeste  2400406   \n",
            "4      Alexandria                             Alto Oeste  2400505   \n",
            "\n",
            "                                            geometry  \n",
            "0  POLYGON ((-36.67528 -6.26957, -36.67217 -6.274...  \n",
            "1  POLYGON ((-37.01502 -5.87045, -37.03524 -5.890...  \n",
            "2  POLYGON ((-36.43954 -5.36949, -36.45491 -5.486...  \n",
            "3  POLYGON ((-38.3087 -6.177, -38.28819 -6.18751,...  \n",
            "4  POLYGON ((-37.90206 -6.29738, -37.90048 -6.317...  \n"
          ]
        }
      ]
    },
    {
      "cell_type": "code",
      "source": [
        "# Otimização do tamanho do arquivo\n",
        "gdf_otimizado = gdf_final.copy()\n",
        "gdf_otimizado['geometry'] = gdf_final.geometry.simplify(tolerance=0.001)\n",
        "\n",
        "# Salvando o novo arquivo GeoJSON\n",
        "caminho_novo_geojson = os.path.join(pasta_saida, \"RN_MUNICIPIOS_TERRITORIOS_OTIMIZADO.json\")\n",
        "gdf_otimizado.to_file(caminho_novo_geojson, driver='GeoJSON')\n",
        "\n",
        "print(\"\\n--- SUCESSO! ---\")\n",
        "print(f\"Seu novo arquivo de mapa foi salvo em:\")\n",
        "print(caminho_novo_geojson)"
      ],
      "metadata": {
        "colab": {
          "base_uri": "https://localhost:8080/"
        },
        "id": "mH8jwnorMCpH",
        "outputId": "e838d3d6-2493-45f5-8662-ad2e4d843d06"
      },
      "execution_count": 6,
      "outputs": [
        {
          "output_type": "stream",
          "name": "stdout",
          "text": [
            "\n",
            "--- SUCESSO! ---\n",
            "Seu novo arquivo de mapa foi salvo em:\n",
            "data/output/RN_MUNICIPIOS_TERRITORIOS_OTIMIZADO.json\n"
          ]
        }
      ]
    },
    {
      "cell_type": "code",
      "source": [],
      "metadata": {
        "id": "_xjFOB6_MFYI"
      },
      "execution_count": null,
      "outputs": []
    }
  ]
}